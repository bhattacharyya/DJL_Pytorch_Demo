{
 "cells": [
  {
   "cell_type": "code",
   "execution_count": 1,
   "metadata": {},
   "outputs": [
    {
     "name": "stdout",
     "output_type": "stream",
     "text": [
      ":: problems summary ::\n",
      ":::: ERRORS\n",
      "\tunknown resolver null\n",
      "\n",
      "\tunknown resolver null\n",
      "\n"
     ]
    }
   ],
   "source": [
    "%maven ai.djl.pytorch:pytorch-engine:0.8.0\n",
    "%maven ai.djl.pytorch:pytorch-native-auto:1.6.0\n",
    "%maven org.slf4j:slf4j-simple:1.7.26"
   ]
  },
  {
   "cell_type": "code",
   "execution_count": 2,
   "metadata": {},
   "outputs": [],
   "source": [
    "import ai.djl.*;\n",
    "import ai.djl.inference.*;\n",
    "import ai.djl.ndarray.*;\n",
    "import ai.djl.translate.*;"
   ]
  },
  {
   "cell_type": "code",
   "execution_count": 3,
   "metadata": {},
   "outputs": [
    {
     "name": "stderr",
     "output_type": "stream",
     "text": [
      "[IJava-executor-0] INFO ai.djl.pytorch.engine.PtEngine - Number of inter-op threads is 4\n",
      "[IJava-executor-0] INFO ai.djl.pytorch.engine.PtEngine - Number of intra-op threads is 8\n"
     ]
    }
   ],
   "source": [
    "import java.nio.file.*;\n",
    "Path modelDir = Paths.get(\"Path_To_Model_Containing_Folder\");\n",
    "Model model = Model.newInstance(\"model1.zip\");"
   ]
  },
  {
   "cell_type": "code",
   "execution_count": 4,
   "metadata": {},
   "outputs": [
    {
     "data": {
      "text/plain": [
       "ai.djl.pytorch.engine.PtModel@13bb41d1"
      ]
     },
     "execution_count": 4,
     "metadata": {},
     "output_type": "execute_result"
    }
   ],
   "source": [
    "model.load(modelDir);\n",
    "model"
   ]
  },
  {
   "cell_type": "code",
   "execution_count": 5,
   "metadata": {},
   "outputs": [],
   "source": [
    "Translator<Float, Float> translator = new Translator<Float, Float>(){\n",
    "\n",
    "    @Override\n",
    "    public NDList processInput(TranslatorContext ctx, Float input) {\n",
    "        NDManager manager = ctx.getNDManager();\n",
    "        NDArray array = manager.create(new float[] {input});\n",
    "        return new NDList (array);\n",
    "    }\n",
    "    \n",
    "    @Override\n",
    "    public Float processOutput(TranslatorContext ctx, NDList list) {\n",
    "        NDArray temp_arr = list.get(0);\n",
    "        return temp_arr.getFloat();\n",
    "    }\n",
    "    \n",
    "    @Override\n",
    "    public Batchifier getBatchifier() {\n",
    "        // The Batchifier describes how to combine a batch together\n",
    "        // Stacking, the most common batchifier, takes N [X1, X2, ...] arrays to a single [N, X1, X2, ...] array\n",
    "        return Batchifier.STACK;\n",
    "    }\n",
    "};"
   ]
  },
  {
   "cell_type": "code",
   "execution_count": 6,
   "metadata": {},
   "outputs": [],
   "source": [
    "Predictor<Float, Float> predictor = model.newPredictor(translator);"
   ]
  },
  {
   "cell_type": "code",
   "execution_count": 7,
   "metadata": {},
   "outputs": [
    {
     "data": {
      "text/plain": [
       "5.8002515"
      ]
     },
     "execution_count": 7,
     "metadata": {},
     "output_type": "execute_result"
    }
   ],
   "source": [
    "predictor.predict(2.9f)"
   ]
  }
 ],
 "metadata": {
  "kernelspec": {
   "display_name": "Java",
   "language": "java",
   "name": "java"
  },
  "language_info": {
   "codemirror_mode": "java",
   "file_extension": ".jshell",
   "mimetype": "text/x-java-source",
   "name": "Java",
   "pygments_lexer": "java",
   "version": "14.0.2+12-46"
  }
 },
 "nbformat": 4,
 "nbformat_minor": 4
}
